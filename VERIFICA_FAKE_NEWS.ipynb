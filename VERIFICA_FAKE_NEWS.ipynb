{
  "cells": [
    {
      "cell_type": "code",
      "execution_count": 16,
      "metadata": {
        "colab": {
          "base_uri": "https://localhost:8080/"
        },
        "id": "t00YfmQG_wC6",
        "outputId": "367af8e1-4a76-42ab-f347-eadbd06f56d2"
      },
      "outputs": [
        {
          "output_type": "stream",
          "name": "stdout",
          "text": [
            "Looking in indexes: https://pypi.org/simple, https://us-python.pkg.dev/colab-wheels/public/simple/\n",
            "Requirement already satisfied: unidecode in /usr/local/lib/python3.7/dist-packages (1.3.4)\n"
          ]
        },
        {
          "output_type": "stream",
          "name": "stderr",
          "text": [
            "[nltk_data] Downloading package stopwords to /root/nltk_data...\n",
            "[nltk_data]   Unzipping corpora/stopwords.zip.\n"
          ]
        }
      ],
      "source": [
        "import pandas as pd\n",
        "import numpy as np\n",
        "from urllib import request\n",
        "import nltk\n",
        "import re\n",
        "import spacy\n",
        "import matplotlib.pyplot as plt\n",
        "!pip install unidecode\n",
        "import unidecode\n",
        "\n",
        "from nltk import word_tokenize\n",
        "from nltk.corpus import stopwords\n",
        "#from nltk.probability import FreqDist\n",
        "from sklearn.model_selection import StratifiedKFold\n",
        "from sklearn.pipeline import Pipeline\n",
        "from sklearn.model_selection import GridSearchCV\n",
        "#from sklearn.model_selection import RandomizedSearchCV\n",
        "from sklearn import model_selection\n",
        "from sklearn.linear_model import LogisticRegression\n",
        "from sklearn.tree import DecisionTreeClassifier\n",
        "from sklearn.neighbors import KNeighborsClassifier\n",
        "from sklearn.ensemble import RandomForestClassifier\n",
        "from sklearn.naive_bayes import GaussianNB\n",
        "from sklearn.naive_bayes import MultinomialNB\n",
        "from sklearn.linear_model import PassiveAggressiveClassifier\n",
        "from sklearn.preprocessing import StandardScaler\n",
        "from sklearn.metrics import accuracy_score\n",
        "from sklearn.model_selection import cross_val_predict\n",
        "from sklearn.metrics import confusion_matrix\n",
        "from sklearn.metrics import classification_report\n",
        "from sklearn.feature_selection import SelectKBest, chi2, f_classif\n",
        "from warnings import simplefilter\n",
        "import pickle\n",
        "from sklearn.feature_extraction.text import TfidfVectorizer\n",
        "from google.colab import drive\n"
      ]
    },
    {
      "cell_type": "code",
      "source": [
        "nltk.download('stopwords')\n",
        "nltk.download('punkt')"
      ],
      "metadata": {
        "colab": {
          "base_uri": "https://localhost:8080/"
        },
        "id": "QkMcHj7jrdBm",
        "outputId": "e9efcbaf-238b-4797-e287-a9258340020f"
      },
      "execution_count": 21,
      "outputs": [
        {
          "output_type": "stream",
          "name": "stderr",
          "text": [
            "[nltk_data] Downloading package stopwords to /root/nltk_data...\n",
            "[nltk_data]   Package stopwords is already up-to-date!\n",
            "[nltk_data] Downloading package punkt to /root/nltk_data...\n",
            "[nltk_data]   Unzipping tokenizers/punkt.zip.\n"
          ]
        },
        {
          "output_type": "execute_result",
          "data": {
            "text/plain": [
              "True"
            ]
          },
          "metadata": {},
          "execution_count": 21
        }
      ]
    },
    {
      "cell_type": "markdown",
      "metadata": {
        "id": "bokXYwNvh8y_"
      },
      "source": [
        "##Aquisição e estruturação do dataset"
      ]
    },
    {
      "cell_type": "code",
      "execution_count": 18,
      "metadata": {
        "id": "yvGT6j4mwY55",
        "colab": {
          "base_uri": "https://localhost:8080/"
        },
        "outputId": "e7122ebf-dad5-4c75-85cb-a2e37157b51a"
      },
      "outputs": [
        {
          "output_type": "stream",
          "name": "stdout",
          "text": [
            "Mounted at /drive\n"
          ]
        }
      ],
      "source": [
        "# Carregar os arquivos csv previamente baixados\n",
        "drive.mount ('/drive') \n",
        "# Com tamanho normalizado \n",
        "df_fake = pd.read_csv(\"/drive/My Drive/Colab Notebooks/Fake News/fake.csv\", dtype={'index': int, 'tipo': str, 'texto': str})\n",
        "df_true = pd.read_csv(\"/drive/My Drive/Colab Notebooks/Fake News/true.csv\", dtype={'index': int, 'tipo': str, 'texto': str})\n",
        "drive.flush_and_unmount()"
      ]
    },
    {
      "cell_type": "code",
      "execution_count": 19,
      "metadata": {
        "colab": {
          "base_uri": "https://localhost:8080/",
          "height": 424
        },
        "id": "oO7Y9aOfgSTm",
        "outputId": "afe6d09d-dd16-4428-eb92-c2393137b761"
      },
      "outputs": [
        {
          "output_type": "execute_result",
          "data": {
            "text/plain": [
              "      tipo                                              texto\n",
              "0     fake  Kátia Abreu diz que vai colocar sua expulsão e...\n",
              "1     fake  Blog esquerdista dá a entender que reclamar de...\n",
              "2     fake  Alckmin diz que por ele PSDB “desembarca”, mas...\n",
              "3     fake  Cara de pau não tem limites: Zé Celso aciona M...\n",
              "4     fake  Temer resolve o problema de Luislinda: “liberd...\n",
              "...    ...                                                ...\n",
              "7195  true  Ficou longe das notícias no fim de ano? Veja o...\n",
              "7196  true  A nova denúncia contra o ex-presidente Luiz In...\n",
              "7197  true  Como a Bahia virou uma potência mundial do mar...\n",
              "7198  true  Alvo da Lava Jato, Bendine tinha passagem comp...\n",
              "7199  true  Chefs convidados do Encontro Mundial das Cidad...\n",
              "\n",
              "[7200 rows x 2 columns]"
            ],
            "text/html": [
              "\n",
              "  <div id=\"df-ac8d4b93-6dd0-493d-b172-8b204212e2fd\">\n",
              "    <div class=\"colab-df-container\">\n",
              "      <div>\n",
              "<style scoped>\n",
              "    .dataframe tbody tr th:only-of-type {\n",
              "        vertical-align: middle;\n",
              "    }\n",
              "\n",
              "    .dataframe tbody tr th {\n",
              "        vertical-align: top;\n",
              "    }\n",
              "\n",
              "    .dataframe thead th {\n",
              "        text-align: right;\n",
              "    }\n",
              "</style>\n",
              "<table border=\"1\" class=\"dataframe\">\n",
              "  <thead>\n",
              "    <tr style=\"text-align: right;\">\n",
              "      <th></th>\n",
              "      <th>tipo</th>\n",
              "      <th>texto</th>\n",
              "    </tr>\n",
              "  </thead>\n",
              "  <tbody>\n",
              "    <tr>\n",
              "      <th>0</th>\n",
              "      <td>fake</td>\n",
              "      <td>Kátia Abreu diz que vai colocar sua expulsão e...</td>\n",
              "    </tr>\n",
              "    <tr>\n",
              "      <th>1</th>\n",
              "      <td>fake</td>\n",
              "      <td>Blog esquerdista dá a entender que reclamar de...</td>\n",
              "    </tr>\n",
              "    <tr>\n",
              "      <th>2</th>\n",
              "      <td>fake</td>\n",
              "      <td>Alckmin diz que por ele PSDB “desembarca”, mas...</td>\n",
              "    </tr>\n",
              "    <tr>\n",
              "      <th>3</th>\n",
              "      <td>fake</td>\n",
              "      <td>Cara de pau não tem limites: Zé Celso aciona M...</td>\n",
              "    </tr>\n",
              "    <tr>\n",
              "      <th>4</th>\n",
              "      <td>fake</td>\n",
              "      <td>Temer resolve o problema de Luislinda: “liberd...</td>\n",
              "    </tr>\n",
              "    <tr>\n",
              "      <th>...</th>\n",
              "      <td>...</td>\n",
              "      <td>...</td>\n",
              "    </tr>\n",
              "    <tr>\n",
              "      <th>7195</th>\n",
              "      <td>true</td>\n",
              "      <td>Ficou longe das notícias no fim de ano? Veja o...</td>\n",
              "    </tr>\n",
              "    <tr>\n",
              "      <th>7196</th>\n",
              "      <td>true</td>\n",
              "      <td>A nova denúncia contra o ex-presidente Luiz In...</td>\n",
              "    </tr>\n",
              "    <tr>\n",
              "      <th>7197</th>\n",
              "      <td>true</td>\n",
              "      <td>Como a Bahia virou uma potência mundial do mar...</td>\n",
              "    </tr>\n",
              "    <tr>\n",
              "      <th>7198</th>\n",
              "      <td>true</td>\n",
              "      <td>Alvo da Lava Jato, Bendine tinha passagem comp...</td>\n",
              "    </tr>\n",
              "    <tr>\n",
              "      <th>7199</th>\n",
              "      <td>true</td>\n",
              "      <td>Chefs convidados do Encontro Mundial das Cidad...</td>\n",
              "    </tr>\n",
              "  </tbody>\n",
              "</table>\n",
              "<p>7200 rows × 2 columns</p>\n",
              "</div>\n",
              "      <button class=\"colab-df-convert\" onclick=\"convertToInteractive('df-ac8d4b93-6dd0-493d-b172-8b204212e2fd')\"\n",
              "              title=\"Convert this dataframe to an interactive table.\"\n",
              "              style=\"display:none;\">\n",
              "        \n",
              "  <svg xmlns=\"http://www.w3.org/2000/svg\" height=\"24px\"viewBox=\"0 0 24 24\"\n",
              "       width=\"24px\">\n",
              "    <path d=\"M0 0h24v24H0V0z\" fill=\"none\"/>\n",
              "    <path d=\"M18.56 5.44l.94 2.06.94-2.06 2.06-.94-2.06-.94-.94-2.06-.94 2.06-2.06.94zm-11 1L8.5 8.5l.94-2.06 2.06-.94-2.06-.94L8.5 2.5l-.94 2.06-2.06.94zm10 10l.94 2.06.94-2.06 2.06-.94-2.06-.94-.94-2.06-.94 2.06-2.06.94z\"/><path d=\"M17.41 7.96l-1.37-1.37c-.4-.4-.92-.59-1.43-.59-.52 0-1.04.2-1.43.59L10.3 9.45l-7.72 7.72c-.78.78-.78 2.05 0 2.83L4 21.41c.39.39.9.59 1.41.59.51 0 1.02-.2 1.41-.59l7.78-7.78 2.81-2.81c.8-.78.8-2.07 0-2.86zM5.41 20L4 18.59l7.72-7.72 1.47 1.35L5.41 20z\"/>\n",
              "  </svg>\n",
              "      </button>\n",
              "      \n",
              "  <style>\n",
              "    .colab-df-container {\n",
              "      display:flex;\n",
              "      flex-wrap:wrap;\n",
              "      gap: 12px;\n",
              "    }\n",
              "\n",
              "    .colab-df-convert {\n",
              "      background-color: #E8F0FE;\n",
              "      border: none;\n",
              "      border-radius: 50%;\n",
              "      cursor: pointer;\n",
              "      display: none;\n",
              "      fill: #1967D2;\n",
              "      height: 32px;\n",
              "      padding: 0 0 0 0;\n",
              "      width: 32px;\n",
              "    }\n",
              "\n",
              "    .colab-df-convert:hover {\n",
              "      background-color: #E2EBFA;\n",
              "      box-shadow: 0px 1px 2px rgba(60, 64, 67, 0.3), 0px 1px 3px 1px rgba(60, 64, 67, 0.15);\n",
              "      fill: #174EA6;\n",
              "    }\n",
              "\n",
              "    [theme=dark] .colab-df-convert {\n",
              "      background-color: #3B4455;\n",
              "      fill: #D2E3FC;\n",
              "    }\n",
              "\n",
              "    [theme=dark] .colab-df-convert:hover {\n",
              "      background-color: #434B5C;\n",
              "      box-shadow: 0px 1px 3px 1px rgba(0, 0, 0, 0.15);\n",
              "      filter: drop-shadow(0px 1px 2px rgba(0, 0, 0, 0.3));\n",
              "      fill: #FFFFFF;\n",
              "    }\n",
              "  </style>\n",
              "\n",
              "      <script>\n",
              "        const buttonEl =\n",
              "          document.querySelector('#df-ac8d4b93-6dd0-493d-b172-8b204212e2fd button.colab-df-convert');\n",
              "        buttonEl.style.display =\n",
              "          google.colab.kernel.accessAllowed ? 'block' : 'none';\n",
              "\n",
              "        async function convertToInteractive(key) {\n",
              "          const element = document.querySelector('#df-ac8d4b93-6dd0-493d-b172-8b204212e2fd');\n",
              "          const dataTable =\n",
              "            await google.colab.kernel.invokeFunction('convertToInteractive',\n",
              "                                                     [key], {});\n",
              "          if (!dataTable) return;\n",
              "\n",
              "          const docLinkHtml = 'Like what you see? Visit the ' +\n",
              "            '<a target=\"_blank\" href=https://colab.research.google.com/notebooks/data_table.ipynb>data table notebook</a>'\n",
              "            + ' to learn more about interactive tables.';\n",
              "          element.innerHTML = '';\n",
              "          dataTable['output_type'] = 'display_data';\n",
              "          await google.colab.output.renderOutput(dataTable, element);\n",
              "          const docLink = document.createElement('div');\n",
              "          docLink.innerHTML = docLinkHtml;\n",
              "          element.appendChild(docLink);\n",
              "        }\n",
              "      </script>\n",
              "    </div>\n",
              "  </div>\n",
              "  "
            ]
          },
          "metadata": {},
          "execution_count": 19
        }
      ],
      "source": [
        "df = pd.DataFrame(columns=['tipo','texto'])\n",
        "\n",
        "#Mescla os dois datasets em um\n",
        "df = df.append(df_fake, ignore_index=True)\n",
        "df = df.append(df_true, ignore_index=True)\n",
        "\n",
        "df"
      ]
    },
    {
      "cell_type": "markdown",
      "metadata": {
        "id": "9IQDkrsQhyYY"
      },
      "source": [
        "##Pré-processamento\n",
        "\n",
        "Para ajudar na acurácia do classificador podemos filtrar informações desnecessárias e realizar outras manipulações para uma melhor classificação e extração de estatísticas das palavras que compõem o corpus.\n",
        "\n",
        "Primeiramente o texto é convertido para letras minúsculas já que ajuda na comparação entre as palavras pois há diferença caso a mesma palavra seja escrita com letras maiúsculas ou minúsculas, por exemplo, \"Presidente\", \"presidente\" e \"pResidente\" são categorizadas como três palavras distintas.\n",
        "\n",
        "Em seguida é realizado o tratamento dos numeros com \"R$\", é criado o token MOEDA; \n",
        "Logo após são removidas as tags html, os endereços URL e os numeros substituindo-os respectivamente com os tokens URL e 0; por fim é feita a remoção das stopwords e outros \"ruídos\" que podem estar no meio dos textos, como pontuação ou até caracteres especiais."
      ]
    },
    {
      "cell_type": "code",
      "execution_count": 22,
      "metadata": {
        "id": "ePpaTffhTHHT"
      },
      "outputs": [],
      "source": [
        "stop_words = stopwords.words('portuguese')\n",
        "\n",
        "def pre_processamento(texto):\n",
        "    texto = texto.lower()\n",
        "    #texto = re.sub(r'[Rr]\\$','', texto) #remove R$   \n",
        "    texto = re.sub(r'[Rr][0-9]+(.[0-9][0-9])?','MOEDA', texto) #token MOEDA      \n",
        "    texto = re.sub('<[^<]+?>','', texto) #remove tags html  \n",
        "    texto = re.sub(r'http\\S+', 'URL', texto) #remove url e substitui pelo token URL\n",
        "    texto = re.sub('[0-9]+','0', texto) #remove números [0-9]+ e substitui pelo token 0\n",
        "    #remove stopwords\n",
        "    text_tokens = word_tokenize(texto, language='portuguese')\n",
        "    sem_stopwords = [palavra for palavra in text_tokens if palavra not in stop_words]\n",
        "    texto = (' ').join(sem_stopwords)   \n",
        "    text_tokens = [palavra for palavra in sem_stopwords if palavra.isalpha()] #remove \"ruidos\"\n",
        "    texto = (' ').join(text_tokens)\n",
        "    texto =  unidecode.unidecode(texto) #remove acentuação\n",
        "    \n",
        "    return texto\n",
        "      \n",
        "df['txt_preprocess'] = df.apply(lambda row: pre_processamento(row['texto']), axis=1)\n"
      ]
    },
    {
      "cell_type": "code",
      "source": [
        "row = 786\n",
        "display(df['texto'][row])"
      ],
      "metadata": {
        "colab": {
          "base_uri": "https://localhost:8080/",
          "height": 105
        },
        "id": "zs6ATWCnwUn2",
        "outputId": "17ead998-3ff6-45e7-9e24-3fcc70ad3ea9"
      },
      "execution_count": 23,
      "outputs": [
        {
          "output_type": "display_data",
          "data": {
            "text/plain": [
              "'Vice-ministro da Rússia diz que os EUA estão por trás de um \"suposto\" golpe no Brasil.  \"Estamos abertos à cooperação com todos os governos de países interessados, desde que sejam governos legítimos\",disse Sergei Ryabkov [vice-ministro].  (via Agência Sputinik) A Rússia fez uma declaração contundente sobre a crise brasileira e disse que observou \"rastros\" dos Estados Unidos na crise política que levou Michel Temer à presidência da República. \"Um dos problemas mais importantes das relações internacionais contemporâneas é a tendência do Ocidente de manter a tudo o custo o domínio nos assuntos globais e regionais. A América Latina e o Caribe não são exceção. \", disse o vice-ministro Sergei Ryabkov.\\r\\n'"
            ],
            "application/vnd.google.colaboratory.intrinsic+json": {
              "type": "string"
            }
          },
          "metadata": {}
        }
      ]
    },
    {
      "cell_type": "code",
      "source": [
        "# Mesmo texto após o o pré-processamento\n",
        "display(df['txt_preprocess'][row])"
      ],
      "metadata": {
        "colab": {
          "base_uri": "https://localhost:8080/",
          "height": 87
        },
        "id": "uuK9fJ1uw5Vh",
        "outputId": "3e7e42e6-417e-4417-c954-02048d34ed92"
      },
      "execution_count": 24,
      "outputs": [
        {
          "output_type": "display_data",
          "data": {
            "text/plain": [
              "'russia diz eua tras suposto golpe brasil abertos cooperacao todos governos paises interessados desde governos legitimos disse sergei ryabkov via agencia sputinik russia fez declaracao contundente sobre crise brasileira disse observou rastros estados unidos crise politica levou michel temer presidencia republica problemas importantes relacoes internacionais contemporaneas tendencia ocidente manter tudo custo dominio assuntos globais regionais america latina caribe excecao disse sergei ryabkov'"
            ],
            "application/vnd.google.colaboratory.intrinsic+json": {
              "type": "string"
            }
          },
          "metadata": {}
        }
      ]
    },
    {
      "cell_type": "code",
      "source": [
        "df"
      ],
      "metadata": {
        "colab": {
          "base_uri": "https://localhost:8080/",
          "height": 424
        },
        "id": "SAJ4helvKQ0w",
        "outputId": "56633edb-a279-4391-f2ce-c3a1b14e8fb6"
      },
      "execution_count": 25,
      "outputs": [
        {
          "output_type": "execute_result",
          "data": {
            "text/plain": [
              "      tipo                                              texto  \\\n",
              "0     fake  Kátia Abreu diz que vai colocar sua expulsão e...   \n",
              "1     fake  Blog esquerdista dá a entender que reclamar de...   \n",
              "2     fake  Alckmin diz que por ele PSDB “desembarca”, mas...   \n",
              "3     fake  Cara de pau não tem limites: Zé Celso aciona M...   \n",
              "4     fake  Temer resolve o problema de Luislinda: “liberd...   \n",
              "...    ...                                                ...   \n",
              "7195  true  Ficou longe das notícias no fim de ano? Veja o...   \n",
              "7196  true  A nova denúncia contra o ex-presidente Luiz In...   \n",
              "7197  true  Como a Bahia virou uma potência mundial do mar...   \n",
              "7198  true  Alvo da Lava Jato, Bendine tinha passagem comp...   \n",
              "7199  true  Chefs convidados do Encontro Mundial das Cidad...   \n",
              "\n",
              "                                         txt_preprocess  \n",
              "0     katia abreu diz vai colocar expulsao moldura r...  \n",
              "1     blog esquerdista da entender reclamar dedada f...  \n",
              "2     alckmin diz psdb desembarca explica utilizara ...  \n",
              "3     cara pau limites ze celso aciona mp contra sil...  \n",
              "4     temer resolve problema luislinda liberdade ain...  \n",
              "...                                                 ...  \n",
              "7195  ficou longe noticias fim ano veja aconteceu br...  \n",
              "7196  nova denuncia contra luiz inacio lula silva pr...  \n",
              "7197  bahia virou potencia mundial marketing politic...  \n",
              "7198  alvo lava jato bendine passagem comprada portu...  \n",
              "7199  chefs convidados encontro mundial cidades cria...  \n",
              "\n",
              "[7200 rows x 3 columns]"
            ],
            "text/html": [
              "\n",
              "  <div id=\"df-9b534a9b-4193-43ee-8904-38a0839ba352\">\n",
              "    <div class=\"colab-df-container\">\n",
              "      <div>\n",
              "<style scoped>\n",
              "    .dataframe tbody tr th:only-of-type {\n",
              "        vertical-align: middle;\n",
              "    }\n",
              "\n",
              "    .dataframe tbody tr th {\n",
              "        vertical-align: top;\n",
              "    }\n",
              "\n",
              "    .dataframe thead th {\n",
              "        text-align: right;\n",
              "    }\n",
              "</style>\n",
              "<table border=\"1\" class=\"dataframe\">\n",
              "  <thead>\n",
              "    <tr style=\"text-align: right;\">\n",
              "      <th></th>\n",
              "      <th>tipo</th>\n",
              "      <th>texto</th>\n",
              "      <th>txt_preprocess</th>\n",
              "    </tr>\n",
              "  </thead>\n",
              "  <tbody>\n",
              "    <tr>\n",
              "      <th>0</th>\n",
              "      <td>fake</td>\n",
              "      <td>Kátia Abreu diz que vai colocar sua expulsão e...</td>\n",
              "      <td>katia abreu diz vai colocar expulsao moldura r...</td>\n",
              "    </tr>\n",
              "    <tr>\n",
              "      <th>1</th>\n",
              "      <td>fake</td>\n",
              "      <td>Blog esquerdista dá a entender que reclamar de...</td>\n",
              "      <td>blog esquerdista da entender reclamar dedada f...</td>\n",
              "    </tr>\n",
              "    <tr>\n",
              "      <th>2</th>\n",
              "      <td>fake</td>\n",
              "      <td>Alckmin diz que por ele PSDB “desembarca”, mas...</td>\n",
              "      <td>alckmin diz psdb desembarca explica utilizara ...</td>\n",
              "    </tr>\n",
              "    <tr>\n",
              "      <th>3</th>\n",
              "      <td>fake</td>\n",
              "      <td>Cara de pau não tem limites: Zé Celso aciona M...</td>\n",
              "      <td>cara pau limites ze celso aciona mp contra sil...</td>\n",
              "    </tr>\n",
              "    <tr>\n",
              "      <th>4</th>\n",
              "      <td>fake</td>\n",
              "      <td>Temer resolve o problema de Luislinda: “liberd...</td>\n",
              "      <td>temer resolve problema luislinda liberdade ain...</td>\n",
              "    </tr>\n",
              "    <tr>\n",
              "      <th>...</th>\n",
              "      <td>...</td>\n",
              "      <td>...</td>\n",
              "      <td>...</td>\n",
              "    </tr>\n",
              "    <tr>\n",
              "      <th>7195</th>\n",
              "      <td>true</td>\n",
              "      <td>Ficou longe das notícias no fim de ano? Veja o...</td>\n",
              "      <td>ficou longe noticias fim ano veja aconteceu br...</td>\n",
              "    </tr>\n",
              "    <tr>\n",
              "      <th>7196</th>\n",
              "      <td>true</td>\n",
              "      <td>A nova denúncia contra o ex-presidente Luiz In...</td>\n",
              "      <td>nova denuncia contra luiz inacio lula silva pr...</td>\n",
              "    </tr>\n",
              "    <tr>\n",
              "      <th>7197</th>\n",
              "      <td>true</td>\n",
              "      <td>Como a Bahia virou uma potência mundial do mar...</td>\n",
              "      <td>bahia virou potencia mundial marketing politic...</td>\n",
              "    </tr>\n",
              "    <tr>\n",
              "      <th>7198</th>\n",
              "      <td>true</td>\n",
              "      <td>Alvo da Lava Jato, Bendine tinha passagem comp...</td>\n",
              "      <td>alvo lava jato bendine passagem comprada portu...</td>\n",
              "    </tr>\n",
              "    <tr>\n",
              "      <th>7199</th>\n",
              "      <td>true</td>\n",
              "      <td>Chefs convidados do Encontro Mundial das Cidad...</td>\n",
              "      <td>chefs convidados encontro mundial cidades cria...</td>\n",
              "    </tr>\n",
              "  </tbody>\n",
              "</table>\n",
              "<p>7200 rows × 3 columns</p>\n",
              "</div>\n",
              "      <button class=\"colab-df-convert\" onclick=\"convertToInteractive('df-9b534a9b-4193-43ee-8904-38a0839ba352')\"\n",
              "              title=\"Convert this dataframe to an interactive table.\"\n",
              "              style=\"display:none;\">\n",
              "        \n",
              "  <svg xmlns=\"http://www.w3.org/2000/svg\" height=\"24px\"viewBox=\"0 0 24 24\"\n",
              "       width=\"24px\">\n",
              "    <path d=\"M0 0h24v24H0V0z\" fill=\"none\"/>\n",
              "    <path d=\"M18.56 5.44l.94 2.06.94-2.06 2.06-.94-2.06-.94-.94-2.06-.94 2.06-2.06.94zm-11 1L8.5 8.5l.94-2.06 2.06-.94-2.06-.94L8.5 2.5l-.94 2.06-2.06.94zm10 10l.94 2.06.94-2.06 2.06-.94-2.06-.94-.94-2.06-.94 2.06-2.06.94z\"/><path d=\"M17.41 7.96l-1.37-1.37c-.4-.4-.92-.59-1.43-.59-.52 0-1.04.2-1.43.59L10.3 9.45l-7.72 7.72c-.78.78-.78 2.05 0 2.83L4 21.41c.39.39.9.59 1.41.59.51 0 1.02-.2 1.41-.59l7.78-7.78 2.81-2.81c.8-.78.8-2.07 0-2.86zM5.41 20L4 18.59l7.72-7.72 1.47 1.35L5.41 20z\"/>\n",
              "  </svg>\n",
              "      </button>\n",
              "      \n",
              "  <style>\n",
              "    .colab-df-container {\n",
              "      display:flex;\n",
              "      flex-wrap:wrap;\n",
              "      gap: 12px;\n",
              "    }\n",
              "\n",
              "    .colab-df-convert {\n",
              "      background-color: #E8F0FE;\n",
              "      border: none;\n",
              "      border-radius: 50%;\n",
              "      cursor: pointer;\n",
              "      display: none;\n",
              "      fill: #1967D2;\n",
              "      height: 32px;\n",
              "      padding: 0 0 0 0;\n",
              "      width: 32px;\n",
              "    }\n",
              "\n",
              "    .colab-df-convert:hover {\n",
              "      background-color: #E2EBFA;\n",
              "      box-shadow: 0px 1px 2px rgba(60, 64, 67, 0.3), 0px 1px 3px 1px rgba(60, 64, 67, 0.15);\n",
              "      fill: #174EA6;\n",
              "    }\n",
              "\n",
              "    [theme=dark] .colab-df-convert {\n",
              "      background-color: #3B4455;\n",
              "      fill: #D2E3FC;\n",
              "    }\n",
              "\n",
              "    [theme=dark] .colab-df-convert:hover {\n",
              "      background-color: #434B5C;\n",
              "      box-shadow: 0px 1px 3px 1px rgba(0, 0, 0, 0.15);\n",
              "      filter: drop-shadow(0px 1px 2px rgba(0, 0, 0, 0.3));\n",
              "      fill: #FFFFFF;\n",
              "    }\n",
              "  </style>\n",
              "\n",
              "      <script>\n",
              "        const buttonEl =\n",
              "          document.querySelector('#df-9b534a9b-4193-43ee-8904-38a0839ba352 button.colab-df-convert');\n",
              "        buttonEl.style.display =\n",
              "          google.colab.kernel.accessAllowed ? 'block' : 'none';\n",
              "\n",
              "        async function convertToInteractive(key) {\n",
              "          const element = document.querySelector('#df-9b534a9b-4193-43ee-8904-38a0839ba352');\n",
              "          const dataTable =\n",
              "            await google.colab.kernel.invokeFunction('convertToInteractive',\n",
              "                                                     [key], {});\n",
              "          if (!dataTable) return;\n",
              "\n",
              "          const docLinkHtml = 'Like what you see? Visit the ' +\n",
              "            '<a target=\"_blank\" href=https://colab.research.google.com/notebooks/data_table.ipynb>data table notebook</a>'\n",
              "            + ' to learn more about interactive tables.';\n",
              "          element.innerHTML = '';\n",
              "          dataTable['output_type'] = 'display_data';\n",
              "          await google.colab.output.renderOutput(dataTable, element);\n",
              "          const docLink = document.createElement('div');\n",
              "          docLink.innerHTML = docLinkHtml;\n",
              "          element.appendChild(docLink);\n",
              "        }\n",
              "      </script>\n",
              "    </div>\n",
              "  </div>\n",
              "  "
            ]
          },
          "metadata": {},
          "execution_count": 25
        }
      ]
    },
    {
      "cell_type": "code",
      "execution_count": 27,
      "metadata": {
        "colab": {
          "base_uri": "https://localhost:8080/",
          "height": 143
        },
        "id": "kidJA2hAvh-8",
        "outputId": "a8e8ecf5-85c3-455a-d742-356c5dac1b77"
      },
      "outputs": [
        {
          "output_type": "execute_result",
          "data": {
            "text/plain": [
              "      num_palavras\n",
              "tipo              \n",
              "fake        366666\n",
              "true        369396"
            ],
            "text/html": [
              "\n",
              "  <div id=\"df-86d1fcc3-1235-431a-ac36-50d30c806906\">\n",
              "    <div class=\"colab-df-container\">\n",
              "      <div>\n",
              "<style scoped>\n",
              "    .dataframe tbody tr th:only-of-type {\n",
              "        vertical-align: middle;\n",
              "    }\n",
              "\n",
              "    .dataframe tbody tr th {\n",
              "        vertical-align: top;\n",
              "    }\n",
              "\n",
              "    .dataframe thead th {\n",
              "        text-align: right;\n",
              "    }\n",
              "</style>\n",
              "<table border=\"1\" class=\"dataframe\">\n",
              "  <thead>\n",
              "    <tr style=\"text-align: right;\">\n",
              "      <th></th>\n",
              "      <th>num_palavras</th>\n",
              "    </tr>\n",
              "    <tr>\n",
              "      <th>tipo</th>\n",
              "      <th></th>\n",
              "    </tr>\n",
              "  </thead>\n",
              "  <tbody>\n",
              "    <tr>\n",
              "      <th>fake</th>\n",
              "      <td>366666</td>\n",
              "    </tr>\n",
              "    <tr>\n",
              "      <th>true</th>\n",
              "      <td>369396</td>\n",
              "    </tr>\n",
              "  </tbody>\n",
              "</table>\n",
              "</div>\n",
              "      <button class=\"colab-df-convert\" onclick=\"convertToInteractive('df-86d1fcc3-1235-431a-ac36-50d30c806906')\"\n",
              "              title=\"Convert this dataframe to an interactive table.\"\n",
              "              style=\"display:none;\">\n",
              "        \n",
              "  <svg xmlns=\"http://www.w3.org/2000/svg\" height=\"24px\"viewBox=\"0 0 24 24\"\n",
              "       width=\"24px\">\n",
              "    <path d=\"M0 0h24v24H0V0z\" fill=\"none\"/>\n",
              "    <path d=\"M18.56 5.44l.94 2.06.94-2.06 2.06-.94-2.06-.94-.94-2.06-.94 2.06-2.06.94zm-11 1L8.5 8.5l.94-2.06 2.06-.94-2.06-.94L8.5 2.5l-.94 2.06-2.06.94zm10 10l.94 2.06.94-2.06 2.06-.94-2.06-.94-.94-2.06-.94 2.06-2.06.94z\"/><path d=\"M17.41 7.96l-1.37-1.37c-.4-.4-.92-.59-1.43-.59-.52 0-1.04.2-1.43.59L10.3 9.45l-7.72 7.72c-.78.78-.78 2.05 0 2.83L4 21.41c.39.39.9.59 1.41.59.51 0 1.02-.2 1.41-.59l7.78-7.78 2.81-2.81c.8-.78.8-2.07 0-2.86zM5.41 20L4 18.59l7.72-7.72 1.47 1.35L5.41 20z\"/>\n",
              "  </svg>\n",
              "      </button>\n",
              "      \n",
              "  <style>\n",
              "    .colab-df-container {\n",
              "      display:flex;\n",
              "      flex-wrap:wrap;\n",
              "      gap: 12px;\n",
              "    }\n",
              "\n",
              "    .colab-df-convert {\n",
              "      background-color: #E8F0FE;\n",
              "      border: none;\n",
              "      border-radius: 50%;\n",
              "      cursor: pointer;\n",
              "      display: none;\n",
              "      fill: #1967D2;\n",
              "      height: 32px;\n",
              "      padding: 0 0 0 0;\n",
              "      width: 32px;\n",
              "    }\n",
              "\n",
              "    .colab-df-convert:hover {\n",
              "      background-color: #E2EBFA;\n",
              "      box-shadow: 0px 1px 2px rgba(60, 64, 67, 0.3), 0px 1px 3px 1px rgba(60, 64, 67, 0.15);\n",
              "      fill: #174EA6;\n",
              "    }\n",
              "\n",
              "    [theme=dark] .colab-df-convert {\n",
              "      background-color: #3B4455;\n",
              "      fill: #D2E3FC;\n",
              "    }\n",
              "\n",
              "    [theme=dark] .colab-df-convert:hover {\n",
              "      background-color: #434B5C;\n",
              "      box-shadow: 0px 1px 3px 1px rgba(0, 0, 0, 0.15);\n",
              "      filter: drop-shadow(0px 1px 2px rgba(0, 0, 0, 0.3));\n",
              "      fill: #FFFFFF;\n",
              "    }\n",
              "  </style>\n",
              "\n",
              "      <script>\n",
              "        const buttonEl =\n",
              "          document.querySelector('#df-86d1fcc3-1235-431a-ac36-50d30c806906 button.colab-df-convert');\n",
              "        buttonEl.style.display =\n",
              "          google.colab.kernel.accessAllowed ? 'block' : 'none';\n",
              "\n",
              "        async function convertToInteractive(key) {\n",
              "          const element = document.querySelector('#df-86d1fcc3-1235-431a-ac36-50d30c806906');\n",
              "          const dataTable =\n",
              "            await google.colab.kernel.invokeFunction('convertToInteractive',\n",
              "                                                     [key], {});\n",
              "          if (!dataTable) return;\n",
              "\n",
              "          const docLinkHtml = 'Like what you see? Visit the ' +\n",
              "            '<a target=\"_blank\" href=https://colab.research.google.com/notebooks/data_table.ipynb>data table notebook</a>'\n",
              "            + ' to learn more about interactive tables.';\n",
              "          element.innerHTML = '';\n",
              "          dataTable['output_type'] = 'display_data';\n",
              "          await google.colab.output.renderOutput(dataTable, element);\n",
              "          const docLink = document.createElement('div');\n",
              "          docLink.innerHTML = docLinkHtml;\n",
              "          element.appendChild(docLink);\n",
              "        }\n",
              "      </script>\n",
              "    </div>\n",
              "  </div>\n",
              "  "
            ]
          },
          "metadata": {},
          "execution_count": 27
        }
      ],
      "source": [
        "df.txt_preprocess = df.txt_preprocess.astype(str).str.strip()\n",
        "\n",
        "#Contar o número de palavras em cada texto e criar a coluna num_palavras para armazená-lo\n",
        "df['num_palavras'] = df['txt_preprocess'].str.count(' ') + 1\n",
        "\n",
        "#Contar total palavras fake e verdadeiras\n",
        "df.groupby('tipo')[['num_palavras']].sum()"
      ]
    },
    {
      "cell_type": "code",
      "execution_count": 28,
      "metadata": {
        "id": "ofOMUCJqWG8C",
        "colab": {
          "base_uri": "https://localhost:8080/",
          "height": 424
        },
        "outputId": "0cbec40e-c8bd-4bb9-c9d4-c2a1e8ee24e9"
      },
      "outputs": [
        {
          "output_type": "execute_result",
          "data": {
            "text/plain": [
              "      tipo                                              texto  \\\n",
              "0        0  Kátia Abreu diz que vai colocar sua expulsão e...   \n",
              "1        0  Blog esquerdista dá a entender que reclamar de...   \n",
              "2        0  Alckmin diz que por ele PSDB “desembarca”, mas...   \n",
              "3        0  Cara de pau não tem limites: Zé Celso aciona M...   \n",
              "4        0  Temer resolve o problema de Luislinda: “liberd...   \n",
              "...    ...                                                ...   \n",
              "7195     1  Ficou longe das notícias no fim de ano? Veja o...   \n",
              "7196     1  A nova denúncia contra o ex-presidente Luiz In...   \n",
              "7197     1  Como a Bahia virou uma potência mundial do mar...   \n",
              "7198     1  Alvo da Lava Jato, Bendine tinha passagem comp...   \n",
              "7199     1  Chefs convidados do Encontro Mundial das Cidad...   \n",
              "\n",
              "                                         txt_preprocess  num_palavras  \n",
              "0     katia abreu diz vai colocar expulsao moldura r...            76  \n",
              "1     blog esquerdista da entender reclamar dedada f...           162  \n",
              "2     alckmin diz psdb desembarca explica utilizara ...           113  \n",
              "3     cara pau limites ze celso aciona mp contra sil...            80  \n",
              "4     temer resolve problema luislinda liberdade ain...            80  \n",
              "...                                                 ...           ...  \n",
              "7195  ficou longe noticias fim ano veja aconteceu br...           104  \n",
              "7196  nova denuncia contra luiz inacio lula silva pr...           252  \n",
              "7197  bahia virou potencia mundial marketing politic...           105  \n",
              "7198  alvo lava jato bendine passagem comprada portu...           129  \n",
              "7199  chefs convidados encontro mundial cidades cria...            51  \n",
              "\n",
              "[7200 rows x 4 columns]"
            ],
            "text/html": [
              "\n",
              "  <div id=\"df-b85084b1-b3a1-4d13-996f-7d54f9fdcdf0\">\n",
              "    <div class=\"colab-df-container\">\n",
              "      <div>\n",
              "<style scoped>\n",
              "    .dataframe tbody tr th:only-of-type {\n",
              "        vertical-align: middle;\n",
              "    }\n",
              "\n",
              "    .dataframe tbody tr th {\n",
              "        vertical-align: top;\n",
              "    }\n",
              "\n",
              "    .dataframe thead th {\n",
              "        text-align: right;\n",
              "    }\n",
              "</style>\n",
              "<table border=\"1\" class=\"dataframe\">\n",
              "  <thead>\n",
              "    <tr style=\"text-align: right;\">\n",
              "      <th></th>\n",
              "      <th>tipo</th>\n",
              "      <th>texto</th>\n",
              "      <th>txt_preprocess</th>\n",
              "      <th>num_palavras</th>\n",
              "    </tr>\n",
              "  </thead>\n",
              "  <tbody>\n",
              "    <tr>\n",
              "      <th>0</th>\n",
              "      <td>0</td>\n",
              "      <td>Kátia Abreu diz que vai colocar sua expulsão e...</td>\n",
              "      <td>katia abreu diz vai colocar expulsao moldura r...</td>\n",
              "      <td>76</td>\n",
              "    </tr>\n",
              "    <tr>\n",
              "      <th>1</th>\n",
              "      <td>0</td>\n",
              "      <td>Blog esquerdista dá a entender que reclamar de...</td>\n",
              "      <td>blog esquerdista da entender reclamar dedada f...</td>\n",
              "      <td>162</td>\n",
              "    </tr>\n",
              "    <tr>\n",
              "      <th>2</th>\n",
              "      <td>0</td>\n",
              "      <td>Alckmin diz que por ele PSDB “desembarca”, mas...</td>\n",
              "      <td>alckmin diz psdb desembarca explica utilizara ...</td>\n",
              "      <td>113</td>\n",
              "    </tr>\n",
              "    <tr>\n",
              "      <th>3</th>\n",
              "      <td>0</td>\n",
              "      <td>Cara de pau não tem limites: Zé Celso aciona M...</td>\n",
              "      <td>cara pau limites ze celso aciona mp contra sil...</td>\n",
              "      <td>80</td>\n",
              "    </tr>\n",
              "    <tr>\n",
              "      <th>4</th>\n",
              "      <td>0</td>\n",
              "      <td>Temer resolve o problema de Luislinda: “liberd...</td>\n",
              "      <td>temer resolve problema luislinda liberdade ain...</td>\n",
              "      <td>80</td>\n",
              "    </tr>\n",
              "    <tr>\n",
              "      <th>...</th>\n",
              "      <td>...</td>\n",
              "      <td>...</td>\n",
              "      <td>...</td>\n",
              "      <td>...</td>\n",
              "    </tr>\n",
              "    <tr>\n",
              "      <th>7195</th>\n",
              "      <td>1</td>\n",
              "      <td>Ficou longe das notícias no fim de ano? Veja o...</td>\n",
              "      <td>ficou longe noticias fim ano veja aconteceu br...</td>\n",
              "      <td>104</td>\n",
              "    </tr>\n",
              "    <tr>\n",
              "      <th>7196</th>\n",
              "      <td>1</td>\n",
              "      <td>A nova denúncia contra o ex-presidente Luiz In...</td>\n",
              "      <td>nova denuncia contra luiz inacio lula silva pr...</td>\n",
              "      <td>252</td>\n",
              "    </tr>\n",
              "    <tr>\n",
              "      <th>7197</th>\n",
              "      <td>1</td>\n",
              "      <td>Como a Bahia virou uma potência mundial do mar...</td>\n",
              "      <td>bahia virou potencia mundial marketing politic...</td>\n",
              "      <td>105</td>\n",
              "    </tr>\n",
              "    <tr>\n",
              "      <th>7198</th>\n",
              "      <td>1</td>\n",
              "      <td>Alvo da Lava Jato, Bendine tinha passagem comp...</td>\n",
              "      <td>alvo lava jato bendine passagem comprada portu...</td>\n",
              "      <td>129</td>\n",
              "    </tr>\n",
              "    <tr>\n",
              "      <th>7199</th>\n",
              "      <td>1</td>\n",
              "      <td>Chefs convidados do Encontro Mundial das Cidad...</td>\n",
              "      <td>chefs convidados encontro mundial cidades cria...</td>\n",
              "      <td>51</td>\n",
              "    </tr>\n",
              "  </tbody>\n",
              "</table>\n",
              "<p>7200 rows × 4 columns</p>\n",
              "</div>\n",
              "      <button class=\"colab-df-convert\" onclick=\"convertToInteractive('df-b85084b1-b3a1-4d13-996f-7d54f9fdcdf0')\"\n",
              "              title=\"Convert this dataframe to an interactive table.\"\n",
              "              style=\"display:none;\">\n",
              "        \n",
              "  <svg xmlns=\"http://www.w3.org/2000/svg\" height=\"24px\"viewBox=\"0 0 24 24\"\n",
              "       width=\"24px\">\n",
              "    <path d=\"M0 0h24v24H0V0z\" fill=\"none\"/>\n",
              "    <path d=\"M18.56 5.44l.94 2.06.94-2.06 2.06-.94-2.06-.94-.94-2.06-.94 2.06-2.06.94zm-11 1L8.5 8.5l.94-2.06 2.06-.94-2.06-.94L8.5 2.5l-.94 2.06-2.06.94zm10 10l.94 2.06.94-2.06 2.06-.94-2.06-.94-.94-2.06-.94 2.06-2.06.94z\"/><path d=\"M17.41 7.96l-1.37-1.37c-.4-.4-.92-.59-1.43-.59-.52 0-1.04.2-1.43.59L10.3 9.45l-7.72 7.72c-.78.78-.78 2.05 0 2.83L4 21.41c.39.39.9.59 1.41.59.51 0 1.02-.2 1.41-.59l7.78-7.78 2.81-2.81c.8-.78.8-2.07 0-2.86zM5.41 20L4 18.59l7.72-7.72 1.47 1.35L5.41 20z\"/>\n",
              "  </svg>\n",
              "      </button>\n",
              "      \n",
              "  <style>\n",
              "    .colab-df-container {\n",
              "      display:flex;\n",
              "      flex-wrap:wrap;\n",
              "      gap: 12px;\n",
              "    }\n",
              "\n",
              "    .colab-df-convert {\n",
              "      background-color: #E8F0FE;\n",
              "      border: none;\n",
              "      border-radius: 50%;\n",
              "      cursor: pointer;\n",
              "      display: none;\n",
              "      fill: #1967D2;\n",
              "      height: 32px;\n",
              "      padding: 0 0 0 0;\n",
              "      width: 32px;\n",
              "    }\n",
              "\n",
              "    .colab-df-convert:hover {\n",
              "      background-color: #E2EBFA;\n",
              "      box-shadow: 0px 1px 2px rgba(60, 64, 67, 0.3), 0px 1px 3px 1px rgba(60, 64, 67, 0.15);\n",
              "      fill: #174EA6;\n",
              "    }\n",
              "\n",
              "    [theme=dark] .colab-df-convert {\n",
              "      background-color: #3B4455;\n",
              "      fill: #D2E3FC;\n",
              "    }\n",
              "\n",
              "    [theme=dark] .colab-df-convert:hover {\n",
              "      background-color: #434B5C;\n",
              "      box-shadow: 0px 1px 3px 1px rgba(0, 0, 0, 0.15);\n",
              "      filter: drop-shadow(0px 1px 2px rgba(0, 0, 0, 0.3));\n",
              "      fill: #FFFFFF;\n",
              "    }\n",
              "  </style>\n",
              "\n",
              "      <script>\n",
              "        const buttonEl =\n",
              "          document.querySelector('#df-b85084b1-b3a1-4d13-996f-7d54f9fdcdf0 button.colab-df-convert');\n",
              "        buttonEl.style.display =\n",
              "          google.colab.kernel.accessAllowed ? 'block' : 'none';\n",
              "\n",
              "        async function convertToInteractive(key) {\n",
              "          const element = document.querySelector('#df-b85084b1-b3a1-4d13-996f-7d54f9fdcdf0');\n",
              "          const dataTable =\n",
              "            await google.colab.kernel.invokeFunction('convertToInteractive',\n",
              "                                                     [key], {});\n",
              "          if (!dataTable) return;\n",
              "\n",
              "          const docLinkHtml = 'Like what you see? Visit the ' +\n",
              "            '<a target=\"_blank\" href=https://colab.research.google.com/notebooks/data_table.ipynb>data table notebook</a>'\n",
              "            + ' to learn more about interactive tables.';\n",
              "          element.innerHTML = '';\n",
              "          dataTable['output_type'] = 'display_data';\n",
              "          await google.colab.output.renderOutput(dataTable, element);\n",
              "          const docLink = document.createElement('div');\n",
              "          docLink.innerHTML = docLinkHtml;\n",
              "          element.appendChild(docLink);\n",
              "        }\n",
              "      </script>\n",
              "    </div>\n",
              "  </div>\n",
              "  "
            ]
          },
          "metadata": {},
          "execution_count": 28
        }
      ],
      "source": [
        "from sklearn.preprocessing import LabelEncoder\n",
        "labelencoder = LabelEncoder()\n",
        "\n",
        "# Transformar a coluna 'tipo' em valores numericos (0-fake; 1-true) \n",
        "df.iloc[:,0]= labelencoder.fit_transform(df.iloc[:,0].values)\n",
        "df"
      ]
    },
    {
      "cell_type": "markdown",
      "metadata": {
        "id": "SC_HGstBLTUX"
      },
      "source": [
        "##Mineração\n",
        "\n",
        "Uso da biblioteca Scikit-Learn para gerar estatísticas das palavras do corpus. O corpus é convertido em uma matriz com valores de TF-IDF usando uni e bigramas mais importantes para classificar cada notícia.\n"
      ]
    },
    {
      "cell_type": "code",
      "source": [
        "# Parametros da Vectorização - palavras e bigramas\n",
        "NGRAM_RANGE = (1, 2)\n",
        "\n",
        "# Limite do número de features usado para selecionar as TOP_K melhores features \n",
        "TOP_K = 20000\n",
        "\n",
        "# Criar argumentos para passar para o 'tf-idf' vectorizer.\n",
        "kwargs = { 'ngram_range': NGRAM_RANGE,  # Use 1-grams + 2-grams\n",
        "           'decode_error': 'replace',\n",
        "}\n",
        "    \n",
        "vectorizer = TfidfVectorizer(**kwargs)\n",
        "selector = SelectKBest(f_classif, k=TOP_K)"
      ],
      "metadata": {
        "id": "Jab9TU8M5LPq"
      },
      "execution_count": 29,
      "outputs": []
    },
    {
      "cell_type": "markdown",
      "metadata": {
        "id": "BC0Me92xLb5v"
      },
      "source": [
        "##Modelagem\n"
      ]
    },
    {
      "cell_type": "code",
      "execution_count": 30,
      "metadata": {
        "id": "vvKMkhB2XIfJ"
      },
      "outputs": [],
      "source": [
        "# Divide os dados em duas variáveis independentes\n",
        "X = df['txt_preprocess'] \n",
        "Y = df['tipo']"
      ]
    },
    {
      "cell_type": "code",
      "source": [
        "# Criando modelo de Machine Learning a partir de vários algoritmos\n",
        "# Cria pipelines para vetorizar, extrair as palavras mais importantes e treinar o modelo\n",
        "pipelines = []\n",
        "pipelines.append(('LOG', Pipeline([('vect', vectorizer), ('selector',  selector),('LOG', LogisticRegression())]))),\n",
        "pipelines.append(('PAC', Pipeline([('vect', vectorizer), ('selector',  selector),('PAC', PassiveAggressiveClassifier())]))),\n",
        "pipelines.append(('KNN', Pipeline([('vect', vectorizer), ('selector',  selector),('KNN', KNeighborsClassifier())]))),\n",
        "pipelines.append(('TREE', Pipeline([('vect', vectorizer), ('selector',  selector),('TREE', DecisionTreeClassifier())]))),\n",
        "pipelines.append(('MNB', Pipeline([('vect', vectorizer), ('selector',  selector),('MNB', MultinomialNB())]))),\n",
        "pipelines.append(('RF', Pipeline([('vect', vectorizer), ('selector',  selector),('RF', RandomForestClassifier())])))\n",
        "\n",
        "# Média dos F1-Score de cada um dos modelos por validação cruzada e o desvio padrão\n",
        "for nome, modelo in pipelines:\n",
        "    kfold = StratifiedKFold(n_splits=10, shuffle = True, random_state=7)\n",
        "    cross_val_result = model_selection.cross_val_score(modelo, X, Y, cv = kfold, scoring='f1')\n",
        "    print(f'{nome}: {round(cross_val_result.mean(), 3)} (+/- {round(cross_val_result.std()*2, 3)})')"
      ],
      "metadata": {
        "colab": {
          "base_uri": "https://localhost:8080/"
        },
        "id": "NZzHuncEZpeN",
        "outputId": "f1f01479-4d7b-4a5e-a9c5-e33f417254fb"
      },
      "execution_count": 31,
      "outputs": [
        {
          "output_type": "stream",
          "name": "stdout",
          "text": [
            "LOG: 0.888 (+/- 0.014)\n",
            "PAC: 0.905 (+/- 0.017)\n",
            "KNN: 0.584 (+/- 0.212)\n",
            "TREE: 0.752 (+/- 0.031)\n",
            "MNB: 0.868 (+/- 0.027)\n",
            "RF: 0.884 (+/- 0.022)\n"
          ]
        }
      ]
    },
    {
      "cell_type": "code",
      "execution_count": 32,
      "metadata": {
        "id": "gCtiv1DAXYeo",
        "colab": {
          "base_uri": "https://localhost:8080/"
        },
        "outputId": "82587718-a199-4c92-bc5d-b83d7ca347c7"
      },
      "outputs": [
        {
          "output_type": "stream",
          "name": "stdout",
          "text": [
            "{'C': 3.5586273124730057, 'max_iter': 200, 'solver': 'lbfgs'}\n",
            "Melhor score: 0.924\n",
            "Melhores parâmetros:\n",
            "\tC: 3.5586273124730057\n",
            "\tmax_iter: 200\n",
            "\tsolver: 'lbfgs'\n"
          ]
        }
      ],
      "source": [
        "# Os algoritmos de Regressão Logística e Passivo-Agressivo obtiveram uma melhor pontuação\n",
        "# Vamos agora fazer um ajuste dos hiperparâmetros para tentar otimizá-los\n",
        "# Ajuste dos hiperparâmetros do algoritmo Regressão Logística\n",
        "from scipy.stats import uniform\n",
        " \n",
        "X_vect = selector.fit_transform(vectorizer.fit_transform(X), Y)\n",
        "\n",
        "log = LogisticRegression(tol=1e-2)\n",
        "distributions = dict(C=uniform(loc=0, scale=4), \n",
        "                     max_iter = (100, 150, 200, 250, 300),\n",
        "                     solver = ['lbfgs','liblinear', 'sag', 'saga'])\n",
        "kfold = StratifiedKFold(n_splits=10, shuffle = True, random_state=7)\n",
        "clf = model_selection.RandomizedSearchCV(log, distributions, cv = kfold)\n",
        "\n",
        "search = clf.fit(X_vect, Y)\n",
        "print(search.best_params_)\n",
        "\n",
        "print(\"Melhor score: %0.3f\" % search.best_score_)\n",
        "print(\"Melhores parâmetros:\")\n",
        "best_parameters = search.best_estimator_.get_params()\n",
        "for param_name in sorted(distributions.keys()):\n",
        "    print(\"\\t%s: %r\" % (param_name, best_parameters[param_name]))"
      ]
    },
    {
      "cell_type": "code",
      "source": [
        "# Ajuste de hiperparâmetros do PassiveAggressiveClassifier\n",
        "pac = PassiveAggressiveClassifier(tol=1e-2)\n",
        "distributions = dict(C=uniform(loc=0, scale=4),\n",
        "                     loss = ['hinge', 'squared_hinge'],\n",
        "                     fit_intercept = [True, False])\n",
        "kfold = StratifiedKFold(n_splits=10, shuffle = True, random_state=7)\n",
        "clf = model_selection.RandomizedSearchCV(pac, distributions, cv = kfold)\n",
        "\n",
        "search = clf.fit(X_vect, Y)\n",
        "print(search.best_params_)\n",
        "\n",
        "print(\"Best score: %0.3f\" % search.best_score_)\n",
        "print(\"Best parameters set:\")\n",
        "best_parameters = search.best_estimator_.get_params()\n",
        "for param_name in sorted(distributions.keys()):\n",
        "    print(\"\\t%s: %r\" % (param_name, best_parameters[param_name]))"
      ],
      "metadata": {
        "id": "P3PFrI_r2Srw",
        "colab": {
          "base_uri": "https://localhost:8080/"
        },
        "outputId": "c81d1b69-a87b-4a93-858f-cc6c0761e640"
      },
      "execution_count": 33,
      "outputs": [
        {
          "output_type": "stream",
          "name": "stdout",
          "text": [
            "{'C': 0.3204778339132557, 'fit_intercept': True, 'loss': 'squared_hinge'}\n",
            "Best score: 0.940\n",
            "Best parameters set:\n",
            "\tC: 0.3204778339132557\n",
            "\tfit_intercept: True\n",
            "\tloss: 'squared_hinge'\n"
          ]
        }
      ]
    },
    {
      "cell_type": "code",
      "source": [
        "# Plotar a matriz de confusão\n",
        "from sklearn.metrics import ConfusionMatrixDisplay\n",
        "\n",
        "ConfusionMatrixDisplay.from_estimator(search, X_vect, Y)\n",
        "plt.show()"
      ],
      "metadata": {
        "colab": {
          "base_uri": "https://localhost:8080/",
          "height": 279
        },
        "id": "RwSQdCrnuAKP",
        "outputId": "f9e619a5-e3db-42f0-8cad-b88e298d8596"
      },
      "execution_count": 38,
      "outputs": [
        {
          "output_type": "display_data",
          "data": {
            "text/plain": [
              "<Figure size 432x288 with 2 Axes>"
            ],
            "image/png": "[encoded data removed]"
          },
          "metadata": {
            "needs_background": "light"
          }
        }
      ]
    },
    {
      "cell_type": "markdown",
      "source": [
        "##O algoritmo PassiveAgressiveClassifier foi o que teve a melhor performance"
      ],
      "metadata": {
        "id": "GBRAso0r686G"
      }
    },
    {
      "cell_type": "code",
      "source": [
        "# Preparando a versão final do modelo.\n",
        "X = df['txt_preprocess']\n",
        "Y = df['tipo'] \n",
        "X_vect = selector.fit_transform(vectorizer.fit_transform(X), Y)\n",
        "\n",
        "modelo_pac = PassiveAggressiveClassifier(C=best_parameters['C'], tol=1e-2,\n",
        "                                         loss=best_parameters['loss'],\n",
        "                                         fit_intercept=best_parameters['fit_intercept'], \n",
        "                                         random_state=7).fit(X_vect, Y)\n",
        "\n",
        "result_pac = cross_val_predict(modelo_pac, X_vect, Y, cv=10)\n",
        "\n",
        "print(f'Acurácia: {accuracy_score(Y, result_pac)}')\n",
        "print('\\n',confusion_matrix(Y, result_pac))\n",
        "print('\\n',classification_report(Y, result_pac))\n"
      ],
      "metadata": {
        "id": "DDrRr5Z25e7p"
      },
      "execution_count": 34,
      "outputs": []
    },
    {
      "cell_type": "code",
      "source": [
        "# Salvar o modelo treinado e o vetorizador no formato pickle \n",
        "pipeline = Pipeline([('vect', vectorizer), \n",
        "                     ('selector',  selector),\n",
        "                     ('PAC', modelo_pac)])\n",
        "\n",
        "with open('PassiveAgressive.pkl', 'wb') as f:\n",
        "    pickle.dump(pipeline, f)\n",
        "\n",
        "# Fazer download do arquivo pickle\n",
        "from google.colab import files\n",
        "files.download('PassiveAgressive.pkl')\n"
      ],
      "metadata": {
        "id": "OtHdxqlLG1Jv",
        "colab": {
          "base_uri": "https://localhost:8080/",
          "height": 17
        },
        "outputId": "db1edc66-8a98-4b63-b661-943664db5dd2"
      },
      "execution_count": 36,
      "outputs": [
        {
          "output_type": "display_data",
          "data": {
            "text/plain": [
              "<IPython.core.display.Javascript object>"
            ],
            "application/javascript": [
              "\n",
              "    async function download(id, filename, size) {\n",
              "      if (!google.colab.kernel.accessAllowed) {\n",
              "        return;\n",
              "      }\n",
              "      const div = document.createElement('div');\n",
              "      const label = document.createElement('label');\n",
              "      label.textContent = `Downloading \"${filename}\": `;\n",
              "      div.appendChild(label);\n",
              "      const progress = document.createElement('progress');\n",
              "      progress.max = size;\n",
              "      div.appendChild(progress);\n",
              "      document.body.appendChild(div);\n",
              "\n",
              "      const buffers = [];\n",
              "      let downloaded = 0;\n",
              "\n",
              "      const channel = await google.colab.kernel.comms.open(id);\n",
              "      // Send a message to notify the kernel that we're ready.\n",
              "      channel.send({})\n",
              "\n",
              "      for await (const message of channel.messages) {\n",
              "        // Send a message to notify the kernel that we're ready.\n",
              "        channel.send({})\n",
              "        if (message.buffers) {\n",
              "          for (const buffer of message.buffers) {\n",
              "            buffers.push(buffer);\n",
              "            downloaded += buffer.byteLength;\n",
              "            progress.value = downloaded;\n",
              "          }\n",
              "        }\n",
              "      }\n",
              "      const blob = new Blob(buffers, {type: 'application/binary'});\n",
              "      const a = document.createElement('a');\n",
              "      a.href = window.URL.createObjectURL(blob);\n",
              "      a.download = filename;\n",
              "      div.appendChild(a);\n",
              "      a.click();\n",
              "      div.remove();\n",
              "    }\n",
              "  "
            ]
          },
          "metadata": {}
        },
        {
          "output_type": "display_data",
          "data": {
            "text/plain": [
              "<IPython.core.display.Javascript object>"
            ],
            "application/javascript": [
              "download(\"download_ef420a87-c208-46d8-bdde-213e498483f4\", \"PassiveAgressive.pkl\", 32865625)"
            ]
          },
          "metadata": {}
        }
      ]
    },
    {
      "cell_type": "code",
      "source": [
        "# Testar se da para usar o modelo sem treinar novamente\n",
        "# Carregar o modelo\n",
        "row = 7195\n",
        "texto = df['txt_preprocess'][row]\n",
        "pac_model = pickle.load(open('PassiveAgressive.pkl', 'rb'))\n",
        "\n",
        "print(\"Previsão: \", str(pac_model.predict([texto])), \"Real: \", str(df['tipo'][row]) )"
      ],
      "metadata": {
        "colab": {
          "base_uri": "https://localhost:8080/"
        },
        "id": "zfgUnFe2CsSk",
        "outputId": "a274255e-2989-4be5-c256-8253f2cffd8d"
      },
      "execution_count": 37,
      "outputs": [
        {
          "output_type": "stream",
          "name": "stdout",
          "text": [
            "Previsão:  [1] Real:  1\n"
          ]
        }
      ]
    }
  ],
  "metadata": {
    "colab": {
      "collapsed_sections": [],
      "name": "VERIFICA-FAKE-NEWS.ipynb",
      "provenance": [],
      "authorship_tag": "ABX9TyPXeU88iNoScx5EUcI9hxly"
    },
    "kernelspec": {
      "display_name": "Python 3",
      "name": "python3"
    },
    "language_info": {
      "name": "python"
    }
  },
  "nbformat": 4,
  "nbformat_minor": 0
}